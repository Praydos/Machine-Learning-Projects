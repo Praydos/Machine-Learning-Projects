{
 "cells": [
  {
   "cell_type": "markdown",
   "id": "3d0c0127",
   "metadata": {},
   "source": [
    "<h1 style=\"text-align : center\"> Predict CO2 Emmision based on engine size of cars : simple linear regression </h1>"
   ]
  },
  {
   "cell_type": "markdown",
   "id": "19247dcf",
   "metadata": {},
   "source": [
    "<p> in this notebook we will build a simple linear regression model to predict the co2 emmissions based on the engine size of cars  </p>"
   ]
  },
  {
   "cell_type": "markdown",
   "id": "ab21415d",
   "metadata": {},
   "source": [
    "## Import libraries\n",
    "<b> numpy </b> : to manupilate vectors and matrix <br>\n",
    "<b> pandas </b>  : for importing and manupilating the data <br>\n",
    "<b> matplotlib </b> : to visualize the data <br>"
   ]
  },
  {
   "cell_type": "code",
   "execution_count": 2,
   "id": "db2222bd",
   "metadata": {},
   "outputs": [],
   "source": [
    "import numpy as np\n",
    "import matplotlib.pyplot as plt\n",
    "import pandas as pd"
   ]
  },
  {
   "cell_type": "markdown",
   "id": "ea8ee15f",
   "metadata": {},
   "source": [
    "lets start by importing the data"
   ]
  },
  {
   "cell_type": "code",
   "execution_count": 3,
   "id": "c5d1f429",
   "metadata": {},
   "outputs": [],
   "source": [
    "df = pd.read_csv('datasets/8-1FuelConsumptionCo2.csv')"
   ]
  },
  {
   "cell_type": "markdown",
   "id": "087e549b",
   "metadata": {},
   "source": [
    "after importing the data lets see the first five rows to see the information that contains.\n",
    "it contains 13 column, each column contains a spesific information about the car like model the year when it released the engin size..., we will focus on 2 colums the engin size and co2emissins, and based on them we will build our model to see how the engine size affect the co2 emission"
   ]
  },
  {
   "cell_type": "code",
   "execution_count": 4,
   "id": "4025ad05",
   "metadata": {},
   "outputs": [
    {
     "data": {
      "text/html": [
       "<div>\n",
       "<style scoped>\n",
       "    .dataframe tbody tr th:only-of-type {\n",
       "        vertical-align: middle;\n",
       "    }\n",
       "\n",
       "    .dataframe tbody tr th {\n",
       "        vertical-align: top;\n",
       "    }\n",
       "\n",
       "    .dataframe thead th {\n",
       "        text-align: right;\n",
       "    }\n",
       "</style>\n",
       "<table border=\"1\" class=\"dataframe\">\n",
       "  <thead>\n",
       "    <tr style=\"text-align: right;\">\n",
       "      <th></th>\n",
       "      <th>MODELYEAR</th>\n",
       "      <th>MAKE</th>\n",
       "      <th>MODEL</th>\n",
       "      <th>VEHICLECLASS</th>\n",
       "      <th>ENGINESIZE</th>\n",
       "      <th>CYLINDERS</th>\n",
       "      <th>TRANSMISSION</th>\n",
       "      <th>FUELTYPE</th>\n",
       "      <th>FUELCONSUMPTION_CITY</th>\n",
       "      <th>FUELCONSUMPTION_HWY</th>\n",
       "      <th>FUELCONSUMPTION_COMB</th>\n",
       "      <th>FUELCONSUMPTION_COMB_MPG</th>\n",
       "      <th>CO2EMISSIONS</th>\n",
       "    </tr>\n",
       "  </thead>\n",
       "  <tbody>\n",
       "    <tr>\n",
       "      <th>0</th>\n",
       "      <td>2014</td>\n",
       "      <td>ACURA</td>\n",
       "      <td>ILX</td>\n",
       "      <td>COMPACT</td>\n",
       "      <td>2.0</td>\n",
       "      <td>4</td>\n",
       "      <td>AS5</td>\n",
       "      <td>Z</td>\n",
       "      <td>9.9</td>\n",
       "      <td>6.7</td>\n",
       "      <td>8.5</td>\n",
       "      <td>33</td>\n",
       "      <td>196</td>\n",
       "    </tr>\n",
       "    <tr>\n",
       "      <th>1</th>\n",
       "      <td>2014</td>\n",
       "      <td>ACURA</td>\n",
       "      <td>ILX</td>\n",
       "      <td>COMPACT</td>\n",
       "      <td>2.4</td>\n",
       "      <td>4</td>\n",
       "      <td>M6</td>\n",
       "      <td>Z</td>\n",
       "      <td>11.2</td>\n",
       "      <td>7.7</td>\n",
       "      <td>9.6</td>\n",
       "      <td>29</td>\n",
       "      <td>221</td>\n",
       "    </tr>\n",
       "    <tr>\n",
       "      <th>2</th>\n",
       "      <td>2014</td>\n",
       "      <td>ACURA</td>\n",
       "      <td>ILX HYBRID</td>\n",
       "      <td>COMPACT</td>\n",
       "      <td>1.5</td>\n",
       "      <td>4</td>\n",
       "      <td>AV7</td>\n",
       "      <td>Z</td>\n",
       "      <td>6.0</td>\n",
       "      <td>5.8</td>\n",
       "      <td>5.9</td>\n",
       "      <td>48</td>\n",
       "      <td>136</td>\n",
       "    </tr>\n",
       "    <tr>\n",
       "      <th>3</th>\n",
       "      <td>2014</td>\n",
       "      <td>ACURA</td>\n",
       "      <td>MDX 4WD</td>\n",
       "      <td>SUV - SMALL</td>\n",
       "      <td>3.5</td>\n",
       "      <td>6</td>\n",
       "      <td>AS6</td>\n",
       "      <td>Z</td>\n",
       "      <td>12.7</td>\n",
       "      <td>9.1</td>\n",
       "      <td>11.1</td>\n",
       "      <td>25</td>\n",
       "      <td>255</td>\n",
       "    </tr>\n",
       "    <tr>\n",
       "      <th>4</th>\n",
       "      <td>2014</td>\n",
       "      <td>ACURA</td>\n",
       "      <td>RDX AWD</td>\n",
       "      <td>SUV - SMALL</td>\n",
       "      <td>3.5</td>\n",
       "      <td>6</td>\n",
       "      <td>AS6</td>\n",
       "      <td>Z</td>\n",
       "      <td>12.1</td>\n",
       "      <td>8.7</td>\n",
       "      <td>10.6</td>\n",
       "      <td>27</td>\n",
       "      <td>244</td>\n",
       "    </tr>\n",
       "  </tbody>\n",
       "</table>\n",
       "</div>"
      ],
      "text/plain": [
       "   MODELYEAR   MAKE       MODEL VEHICLECLASS  ENGINESIZE  CYLINDERS  \\\n",
       "0       2014  ACURA         ILX      COMPACT         2.0          4   \n",
       "1       2014  ACURA         ILX      COMPACT         2.4          4   \n",
       "2       2014  ACURA  ILX HYBRID      COMPACT         1.5          4   \n",
       "3       2014  ACURA     MDX 4WD  SUV - SMALL         3.5          6   \n",
       "4       2014  ACURA     RDX AWD  SUV - SMALL         3.5          6   \n",
       "\n",
       "  TRANSMISSION FUELTYPE  FUELCONSUMPTION_CITY  FUELCONSUMPTION_HWY  \\\n",
       "0          AS5        Z                   9.9                  6.7   \n",
       "1           M6        Z                  11.2                  7.7   \n",
       "2          AV7        Z                   6.0                  5.8   \n",
       "3          AS6        Z                  12.7                  9.1   \n",
       "4          AS6        Z                  12.1                  8.7   \n",
       "\n",
       "   FUELCONSUMPTION_COMB  FUELCONSUMPTION_COMB_MPG  CO2EMISSIONS  \n",
       "0                   8.5                        33           196  \n",
       "1                   9.6                        29           221  \n",
       "2                   5.9                        48           136  \n",
       "3                  11.1                        25           255  \n",
       "4                  10.6                        27           244  "
      ]
     },
     "execution_count": 4,
     "metadata": {},
     "output_type": "execute_result"
    }
   ],
   "source": [
    "df.head()"
   ]
  },
  {
   "cell_type": "code",
   "execution_count": 5,
   "id": "df6e4bad",
   "metadata": {},
   "outputs": [
    {
     "data": {
      "text/plain": [
       "(1067, 13)"
      ]
     },
     "execution_count": 5,
     "metadata": {},
     "output_type": "execute_result"
    }
   ],
   "source": [
    "df.shape # the dataset contain 1067 cars"
   ]
  },
  {
   "cell_type": "code",
   "execution_count": 7,
   "id": "79a278a0",
   "metadata": {},
   "outputs": [],
   "source": [
    "simpleData=df[['ENGINESIZE','CO2EMISSIONS']] # we will take the column we spicifed"
   ]
  },
  {
   "cell_type": "markdown",
   "id": "bb83add5",
   "metadata": {},
   "source": [
    "### visualizing"
   ]
  },
  {
   "cell_type": "markdown",
   "id": "0fdd404f",
   "metadata": {},
   "source": [
    "lets visualize how the engine size influente the co2 emission. <br>\n",
    "here we see that both the engine size ande co2 emission augmente in linear way so the more the engine size is bigger the co2 emission got bigger too"
   ]
  },
  {
   "cell_type": "code",
   "execution_count": 8,
   "id": "6843c736",
   "metadata": {},
   "outputs": [
    {
     "data": {
      "text/plain": [
       "Text(0, 0.5, 'CO2EMISSIONS')"
      ]
     },
     "execution_count": 8,
     "metadata": {},
     "output_type": "execute_result"
    },
    {
     "data": {
      "image/png": "[encoded data removed]",
      "text/plain": [
       "<Figure size 432x288 with 1 Axes>"
      ]
     },
     "metadata": {
      "needs_background": "light"
     },
     "output_type": "display_data"
    }
   ],
   "source": [
    "plt.scatter(simpleData['ENGINESIZE'],simpleData['CO2EMISSIONS'])\n",
    "plt.xlabel('ENGINESIZE')\n",
    "plt.ylabel('CO2EMISSIONS')"
   ]
  },
  {
   "cell_type": "markdown",
   "id": "7fa31e53",
   "metadata": {},
   "source": [
    "the same thing to fuel consumption"
   ]
  },
  {
   "cell_type": "code",
   "execution_count": 9,
   "id": "53b2f9e3",
   "metadata": {},
   "outputs": [
    {
     "data": {
      "text/plain": [
       "Text(0, 0.5, 'CO2EMISSIONS')"
      ]
     },
     "execution_count": 9,
     "metadata": {},
     "output_type": "execute_result"
    },
    {
     "data": {
      "image/png": "[encoded data removed]",
      "text/plain": [
       "<Figure size 432x288 with 1 Axes>"
      ]
     },
     "metadata": {
      "needs_background": "light"
     },
     "output_type": "display_data"
    }
   ],
   "source": [
    "plt.scatter(df['FUELCONSUMPTION_HWY'],simpleData['CO2EMISSIONS'])\n",
    "plt.xlabel('FUELCONSUMPTION_HWY')\n",
    "plt.ylabel('CO2EMISSIONS')"
   ]
  },
  {
   "cell_type": "markdown",
   "id": "b6dded58",
   "metadata": {},
   "source": [
    "### spliting the dataset"
   ]
  },
  {
   "cell_type": "markdown",
   "id": "9bb5a517",
   "metadata": {},
   "source": [
    "we will split the data set to training part and testing part"
   ]
  },
  {
   "cell_type": "code",
   "execution_count": 11,
   "id": "c93d687c",
   "metadata": {},
   "outputs": [],
   "source": [
    "x=simpleData['ENGINESIZE'] # data \n",
    "y=simpleData['CO2EMISSIONS'] # label"
   ]
  },
  {
   "cell_type": "code",
   "execution_count": 12,
   "id": "94316bc3",
   "metadata": {},
   "outputs": [],
   "source": [
    "x_train=np.array(x[0:900])\n",
    "y_train=np.array(y[0:900])\n",
    "x_test=np.array(x[901:])\n",
    "y_test=np.array(y[901:])"
   ]
  },
  {
   "cell_type": "code",
   "execution_count": 13,
   "id": "359fcae2",
   "metadata": {},
   "outputs": [
    {
     "data": {
      "text/plain": [
       "(1067, 1067)"
      ]
     },
     "execution_count": 13,
     "metadata": {},
     "output_type": "execute_result"
    }
   ],
   "source": [
    "x.size , y.size"
   ]
  },
  {
   "cell_type": "markdown",
   "id": "870b92f6",
   "metadata": {},
   "source": [
    "### implementation of gradiant decsent : linear regression"
   ]
  },
  {
   "cell_type": "code",
   "execution_count": 14,
   "id": "4e0d306e",
   "metadata": {},
   "outputs": [],
   "source": [
    "#Function to calculate the cost\n",
    "def compute_cost(x, y, w, b):\n",
    "   \n",
    "    m = x.shape[0] \n",
    "    cost = 0\n",
    "    \n",
    "    for i in range(m):\n",
    "        f_wb = w * x[i] + b\n",
    "        cost = cost + (f_wb - y[i])**2\n",
    "    total_cost = 1 / (2 * m) * cost\n",
    "\n",
    "    return total_cost"
   ]
  },
  {
   "cell_type": "code",
   "execution_count": 15,
   "id": "528bda09",
   "metadata": {},
   "outputs": [],
   "source": [
    "def compute_gradient(x, y, w, b): \n",
    "    \"\"\"\n",
    "    Computes the gradient for linear regression \n",
    "    Args:\n",
    "      x (ndarray (m,)): Data, m examples \n",
    "      y (ndarray (m,)): target values\n",
    "      w,b (scalar)    : model parameters  \n",
    "    Returns\n",
    "      dj_dw (scalar): The gradient of the cost w.r.t. the parameters w\n",
    "      dj_db (scalar): The gradient of the cost w.r.t. the parameter b     \n",
    "     \"\"\"\n",
    "    \n",
    "    # Number of training examples\n",
    "    m = x.shape[0]    \n",
    "    dj_dw = 0\n",
    "    dj_db = 0\n",
    "    \n",
    "    for i in range(m):  \n",
    "        f_wb = w * x[i] + b \n",
    "        \n",
    "        dj_dw_i = (f_wb - y[i]) * x[i] \n",
    "        dj_db_i = f_wb - y[i] \n",
    "        \n",
    "        dj_db += dj_db_i\n",
    "        dj_dw += dj_dw_i \n",
    "        \n",
    "    dj_dw = dj_dw / m \n",
    "    dj_db = dj_db / m \n",
    "        \n",
    "    return dj_dw, dj_db"
   ]
  },
  {
   "cell_type": "code",
   "execution_count": 16,
   "id": "1d04268b",
   "metadata": {},
   "outputs": [],
   "source": [
    "def gradient_descent(x, y, w_in, b_in, alpha, num_iters, cost_function, gradient_function ): \n",
    "    \"\"\"\n",
    "    Performs gradient descent to fit w,b. Updates w,b by taking \n",
    "    num_iters gradient steps with learning rate alpha\n",
    "    \n",
    "    Args:\n",
    "      x (ndarray (m,))  : Data, m examples \n",
    "      y (ndarray (m,))  : target values\n",
    "      w_in,b_in (scalar): initial values of model parameters  \n",
    "      alpha (float):     Learning rate\n",
    "      num_iters (int):   number of iterations to run gradient descent\n",
    "      cost_function:     function to call to produce cost\n",
    "      gradient_function: function to call to produce gradient\n",
    "      \n",
    "    Returns:\n",
    "      w (scalar): Updated value of parameter after running gradient descent\n",
    "      b (scalar): Updated value of parameter after running gradient descent\n",
    "      J_history (List): History of cost values\n",
    "      p_history (list): History of parameters [w,b] \n",
    "      \"\"\"\n",
    "    # An array to store cost J and w's at each iteration primarily for graphing later\n",
    "    J_history = []\n",
    "    p_history = []\n",
    "    b = b_in\n",
    "    w = w_in\n",
    "    \n",
    "    for i in range(num_iters):\n",
    "        # Calculate the gradient and update the parameters using gradient_function\n",
    "        dj_dw, dj_db = gradient_function(x, y, w , b)     \n",
    "\n",
    "        # Update Parameters using equation (3) above\n",
    "        b = b - alpha * dj_db                            \n",
    "        w = w - alpha * dj_dw                            \n",
    "\n",
    "        # Save cost J at each iteration\n",
    "        if i<100000:      # prevent resource exhaustion \n",
    "            J_history.append( cost_function(x, y, w , b))\n",
    "            p_history.append([w,b])\n",
    "        # Print cost every at intervals 10 times or as many iterations if < 10\n",
    "       \n",
    " \n",
    "    return w, b, J_history, p_history #return w and J,w history for graphing"
   ]
  },
  {
   "cell_type": "code",
   "execution_count": 17,
   "id": "a8e7d681",
   "metadata": {},
   "outputs": [
    {
     "name": "stdout",
     "output_type": "stream",
     "text": [
      "(w,b) found by gradient descent: ( 39.0274,125.9542)\n"
     ]
    }
   ],
   "source": [
    "# initialize parameters\n",
    "w_init = 0\n",
    "b_init = 0\n",
    "# some gradient descent settings\n",
    "iterations = 550\n",
    "tmp_alpha = 0.11\n",
    "# run gradient descent\n",
    "w_final, b_final, J_hist, p_hist = gradient_descent(x_train ,y_train, w_init, b_init, tmp_alpha, \n",
    "                                                    iterations, compute_cost, compute_gradient)\n",
    "print(f\"(w,b) found by gradient descent: ({w_final:8.4f},{b_final:8.4f})\")"
   ]
  },
  {
   "cell_type": "code",
   "execution_count": 18,
   "id": "2fe950d5",
   "metadata": {},
   "outputs": [],
   "source": [
    "#linear function to calculate the predictions\n",
    "def simpleLinear(x,w,b) :\n",
    "    return x*w+b;"
   ]
  },
  {
   "cell_type": "code",
   "execution_count": 19,
   "id": "fb53a21d",
   "metadata": {},
   "outputs": [],
   "source": [
    "result=simpleLinear(x_test,w_final,b_final)"
   ]
  },
  {
   "cell_type": "code",
   "execution_count": 35,
   "id": "df8424ab",
   "metadata": {},
   "outputs": [
    {
     "data": {
      "text/plain": [
       "(array([266.06587588, 266.06587588, 242.39932877, 242.39932877,\n",
       "        313.39897009, 242.39932877, 313.39897009, 313.39897009,\n",
       "        348.89879075, 348.89879075, 348.89879075, 348.89879075,\n",
       "        242.39932877, 266.06587588, 266.06587588, 242.39932877,\n",
       "        266.06587588, 266.06587588, 266.06587588, 266.06587588]),\n",
       " array([251, 255, 260, 264, 292, 260, 294, 297, 340, 313, 354, 324, 286,\n",
       "        290, 285, 275, 274, 269, 260, 262], dtype=int64))"
      ]
     },
     "execution_count": 35,
     "metadata": {},
     "output_type": "execute_result"
    }
   ],
   "source": [
    "result[0:20],y_test[0:20]"
   ]
  },
  {
   "cell_type": "markdown",
   "id": "59169a1c",
   "metadata": {},
   "source": [
    "lets plot the model and the data"
   ]
  },
  {
   "cell_type": "code",
   "execution_count": 33,
   "id": "6d2359d4",
   "metadata": {},
   "outputs": [
    {
     "data": {
      "text/plain": [
       "Text(0, 0.5, 'CO2EMISSIONS')"
      ]
     },
     "execution_count": 33,
     "metadata": {},
     "output_type": "execute_result"
    },
    {
     "data": {
      "image/png": "[encoded data removed]",
      "text/plain": [
       "<Figure size 432x288 with 1 Axes>"
      ]
     },
     "metadata": {
      "needs_background": "light"
     },
     "output_type": "display_data"
    }
   ],
   "source": [
    "plt.scatter(simpleData['ENGINESIZE'],simpleData['CO2EMISSIONS'])\n",
    "plt.plot(x_test,result,'red')\n",
    "plt.xlabel('ENGINESIZE')\n",
    "plt.ylabel('CO2EMISSIONS')"
   ]
  },
  {
   "cell_type": "markdown",
   "id": "db5f7dc8",
   "metadata": {},
   "source": [
    "### implementing the model with sickit-learn"
   ]
  },
  {
   "cell_type": "code",
   "execution_count": 22,
   "id": "c88226fe",
   "metadata": {},
   "outputs": [],
   "source": [
    "from sklearn.linear_model import SGDRegressor,Lasso,Ridge,LinearRegression\n",
    "from sklearn.metrics import accuracy_score\n",
    "from sklearn.metrics import mean_squared_error, mean_absolute_error, r2_score"
   ]
  },
  {
   "cell_type": "code",
   "execution_count": 23,
   "id": "4479f709",
   "metadata": {},
   "outputs": [
    {
     "data": {
      "text/plain": [
       "SGDRegressor(max_iter=400)"
      ]
     },
     "execution_count": 23,
     "metadata": {},
     "output_type": "execute_result"
    }
   ],
   "source": [
    "sgdr=SGDRegressor(max_iter=400)\n",
    "sgdr.fit(x_train.reshape(-1,1),y_train)"
   ]
  },
  {
   "cell_type": "code",
   "execution_count": 24,
   "id": "8cb637be",
   "metadata": {},
   "outputs": [],
   "source": [
    "result=sgdr.predict(x_test.reshape(-1,1))"
   ]
  },
  {
   "cell_type": "markdown",
   "id": "bf248237",
   "metadata": {},
   "source": [
    "#### the accuracy"
   ]
  },
  {
   "cell_type": "code",
   "execution_count": 26,
   "id": "583f8c86",
   "metadata": {},
   "outputs": [
    {
     "name": "stdout",
     "output_type": "stream",
     "text": [
      "simple linear regression accuracy  0.7950\n"
     ]
    }
   ],
   "source": [
    "print(f'simple linear regression accuracy{r2_score(y_test,result):8.4f}')"
   ]
  },
  {
   "cell_type": "code",
   "execution_count": 27,
   "id": "4a9129fe",
   "metadata": {},
   "outputs": [],
   "source": [
    "b=sgdr.intercept_\n",
    "w=sgdr.coef_"
   ]
  },
  {
   "cell_type": "code",
   "execution_count": 28,
   "id": "875500bf",
   "metadata": {},
   "outputs": [],
   "source": [
    "def linearfct(w,b,x) :\n",
    "    return w*x+b;"
   ]
  },
  {
   "cell_type": "code",
   "execution_count": 29,
   "id": "b832bb40",
   "metadata": {},
   "outputs": [],
   "source": [
    "y_result=linearfct(w,b,x_train)"
   ]
  },
  {
   "cell_type": "markdown",
   "id": "b8b2b93e",
   "metadata": {},
   "source": [
    "lets plot the model and see how well the model fit the data"
   ]
  },
  {
   "cell_type": "code",
   "execution_count": 31,
   "id": "94f81854",
   "metadata": {},
   "outputs": [
    {
     "data": {
      "text/plain": [
       "Text(0, 0.5, 'CO2EMISSIONS')"
      ]
     },
     "execution_count": 31,
     "metadata": {},
     "output_type": "execute_result"
    },
    {
     "data": {
      "image/png": "[encoded data removed]",
      "text/plain": [
       "<Figure size 432x288 with 1 Axes>"
      ]
     },
     "metadata": {
      "needs_background": "light"
     },
     "output_type": "display_data"
    }
   ],
   "source": [
    "plt.scatter(simpleData['ENGINESIZE'],simpleData['CO2EMISSIONS'])\n",
    "plt.plot(x_train,y_result,'red')\n",
    "plt.xlabel('ENGINESIZE')\n",
    "plt.ylabel('CO2EMISSIONS')"
   ]
  },
  {
   "cell_type": "markdown",
   "id": "826b4c83",
   "metadata": {},
   "source": [
    "## lasso "
   ]
  },
  {
   "cell_type": "code",
   "execution_count": 39,
   "id": "b93e2330",
   "metadata": {},
   "outputs": [
    {
     "data": {
      "text/plain": [
       "Lasso(alpha=1e-05)"
      ]
     },
     "execution_count": 39,
     "metadata": {},
     "output_type": "execute_result"
    }
   ],
   "source": [
    "lasso = Lasso(alpha=0.00001)\n",
    "lasso.fit(x_train.reshape(-1,1), y_train)"
   ]
  },
  {
   "cell_type": "code",
   "execution_count": 40,
   "id": "126680f7",
   "metadata": {},
   "outputs": [],
   "source": [
    "result2=lasso.predict(x_test.reshape(-1,1))"
   ]
  },
  {
   "cell_type": "code",
   "execution_count": 41,
   "id": "fa8e8ef5",
   "metadata": {},
   "outputs": [
    {
     "name": "stdout",
     "output_type": "stream",
     "text": [
      "lasso accuracy  0.7944\n"
     ]
    }
   ],
   "source": [
    "print(f'lasso accuracy{r2_score(y_test,result2):8.4f}')"
   ]
  },
  {
   "cell_type": "markdown",
   "id": "ff8dd732",
   "metadata": {},
   "source": [
    "### visualizing the model\n"
   ]
  },
  {
   "cell_type": "code",
   "execution_count": 43,
   "id": "dc3938e3",
   "metadata": {},
   "outputs": [
    {
     "data": {
      "text/plain": [
       "Text(0, 0.5, 'CO2EMISSIONS')"
      ]
     },
     "execution_count": 43,
     "metadata": {},
     "output_type": "execute_result"
    },
    {
     "data": {
      "image/png": "[encoded data removed]",
      "text/plain": [
       "<Figure size 432x288 with 1 Axes>"
      ]
     },
     "metadata": {
      "needs_background": "light"
     },
     "output_type": "display_data"
    }
   ],
   "source": [
    "plt.scatter(simpleData['ENGINESIZE'],simpleData['CO2EMISSIONS'])\n",
    "plt.plot(x_test,result2,'red')\n",
    "plt.xlabel('ENGINESIZE')\n",
    "plt.ylabel('CO2EMISSIONS')"
   ]
  },
  {
   "cell_type": "markdown",
   "id": "8d0f6739",
   "metadata": {},
   "source": [
    "## linear Regressor"
   ]
  },
  {
   "cell_type": "code",
   "execution_count": 41,
   "id": "84184bee",
   "metadata": {},
   "outputs": [
    {
     "data": {
      "text/plain": [
       "LinearRegression()"
      ]
     },
     "execution_count": 41,
     "metadata": {},
     "output_type": "execute_result"
    }
   ],
   "source": [
    "lr=LinearRegression()\n",
    "lr.fit(x_train.reshape(-1,1), y_train)"
   ]
  },
  {
   "cell_type": "code",
   "execution_count": 44,
   "id": "5216c58f",
   "metadata": {},
   "outputs": [],
   "source": [
    "result3=lr.predict(x_test.reshape(-1,1))"
   ]
  },
  {
   "cell_type": "markdown",
   "id": "756b66c3",
   "metadata": {},
   "source": [
    "### accuracy"
   ]
  },
  {
   "cell_type": "code",
   "execution_count": 45,
   "id": "9751e307",
   "metadata": {},
   "outputs": [
    {
     "name": "stdout",
     "output_type": "stream",
     "text": [
      "linear accuracy  0.7944\n"
     ]
    }
   ],
   "source": [
    "print(f'linear accuracy{r2_score(y_test,result3):8.4f}')"
   ]
  },
  {
   "cell_type": "code",
   "execution_count": 47,
   "id": "780d2366",
   "metadata": {},
   "outputs": [],
   "source": [
    "y_result3=lr.predict(x_train.reshape(-1,1))"
   ]
  },
  {
   "cell_type": "code",
   "execution_count": 48,
   "id": "48864aaf",
   "metadata": {},
   "outputs": [
    {
     "data": {
      "text/plain": [
       "[<matplotlib.lines.Line2D at 0x1b3fcdcf1c0>]"
      ]
     },
     "execution_count": 48,
     "metadata": {},
     "output_type": "execute_result"
    },
    {
     "data": {
      "image/png": "[encoded data removed]",
      "text/plain": [
       "<Figure size 432x288 with 1 Axes>"
      ]
     },
     "metadata": {
      "needs_background": "light"
     },
     "output_type": "display_data"
    }
   ],
   "source": [
    "plt.scatter(simpleData['ENGINESIZE'],simpleData['CO2EMISSIONS'])\n",
    "plt.plot(x_train,y_result3,'red')"
   ]
  },
  {
   "cell_type": "code",
   "execution_count": null,
   "id": "a96f40f2",
   "metadata": {},
   "outputs": [],
   "source": []
  }
 ],
 "metadata": {
  "kernelspec": {
   "display_name": "Python 3 (ipykernel)",
   "language": "python",
   "name": "python3"
  },
  "language_info": {
   "codemirror_mode": {
    "name": "ipython",
    "version": 3
   },
   "file_extension": ".py",
   "mimetype": "text/x-python",
   "name": "python",
   "nbconvert_exporter": "python",
   "pygments_lexer": "ipython3",
   "version": "3.9.12"
  }
 },
 "nbformat": 4,
 "nbformat_minor": 5
}
